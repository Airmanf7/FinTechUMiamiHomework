{
 "cells": [
  {
   "cell_type": "code",
   "execution_count": 9,
   "metadata": {},
   "outputs": [],
   "source": [
    "import os\n",
    "import requests\n",
    "from dotenv import load_dotenv\n",
    "load_dotenv()\n",
    "from bip44 import Wallet\n",
    "from web3 import Account\n",
    "from web3 import middleware\n",
    "from web3.gas_strategies.time_based import medium_gas_price_strategy\n",
    "from web3 import Web3\n",
    "w3 = Web3(Web3.HTTPProvider('HTTP://127.0.0.1:7545'))"
   ]
  },
  {
   "cell_type": "code",
   "execution_count": 10,
   "metadata": {},
   "outputs": [],
   "source": [
    "# Wallet functionality\n",
    "\n",
    "def generate_account():\n",
    "    \"\"\"Create a digital wallet and Ethereum account from a mnemonic seed phrase.\"\"\"\n",
    "    # Fetch mnemonic from environment variable.\n",
    "    mnemonic = os.getenv(\"MNEMONIC\")\n",
    "\n",
    "    # Create Wallet Object\n",
    "    wallet = Wallet(mnemonic)\n",
    "\n",
    "    # Derive Ethereum Private Key\n",
    "    private, public = wallet.derive_account(\"eth\")\n",
    "\n",
    "    # Convert private key into an Ethereum account\n",
    "    account = Account.privateKeyToAccount(private)\n",
    "\n",
    "    return account"
   ]
  },
  {
   "cell_type": "code",
   "execution_count": 11,
   "metadata": {},
   "outputs": [],
   "source": [
    "def get_balance(w3, address):\n",
    "    \"\"\"Using an Ethereum account address access the balance of Ether\"\"\"\n",
    "    # Get balance of address in Wei\n",
    "    wei_balance = w3.eth.get_balance(address)\n",
    "\n",
    "    # Convert Wei value to ether\n",
    "    ether = w3.fromWei(wei_balance, \"ether\")\n",
    "\n",
    "    # Return the value in ether\n",
    "    return ether"
   ]
  },
  {
   "cell_type": "code",
   "execution_count": 19,
   "metadata": {},
   "outputs": [
    {
     "name": "stdout",
     "output_type": "stream",
     "text": [
      "<bip44.wallet.Wallet object at 0x00000231F8507190>\n"
     ]
    }
   ],
   "source": []
  }
 ],
 "metadata": {
  "interpreter": {
   "hash": "a69dba933c6b8185488e89e7a06f7aca9551140e90f608799b32574f8ad3faa0"
  },
  "kernelspec": {
   "display_name": "Python 3.8.12 64-bit ('FinTech': conda)",
   "language": "python",
   "name": "python3"
  },
  "language_info": {
   "codemirror_mode": {
    "name": "ipython",
    "version": 3
   },
   "file_extension": ".py",
   "mimetype": "text/x-python",
   "name": "python",
   "nbconvert_exporter": "python",
   "pygments_lexer": "ipython3",
   "version": "3.8.12"
  },
  "orig_nbformat": 4
 },
 "nbformat": 4,
 "nbformat_minor": 2
}
