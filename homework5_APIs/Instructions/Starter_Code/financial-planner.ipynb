{
 "cells": [
  {
   "cell_type": "markdown",
   "source": [
    "# Unit 5 - Financial Planning"
   ],
   "metadata": {}
  },
  {
   "cell_type": "code",
   "execution_count": 2,
   "source": [
    "# Initial imports\r\n",
    "import os\r\n",
    "import requests\r\n",
    "import pandas as pd\r\n",
    "from dotenv import load_dotenv\r\n",
    "import alpaca_trade_api as tradeapi\r\n",
    "from MCForecastTools import MCSimulation\r\n",
    "import json\r\n",
    "\r\n",
    "%matplotlib inline"
   ],
   "outputs": [],
   "metadata": {}
  },
  {
   "cell_type": "code",
   "execution_count": 3,
   "source": [
    "# Load .env enviroment variables\r\n",
    "load_dotenv()"
   ],
   "outputs": [
    {
     "output_type": "execute_result",
     "data": {
      "text/plain": [
       "True"
      ]
     },
     "metadata": {},
     "execution_count": 3
    }
   ],
   "metadata": {}
  },
  {
   "cell_type": "markdown",
   "source": [
    "## Part 1 - Personal Finance Planner"
   ],
   "metadata": {}
  },
  {
   "cell_type": "markdown",
   "source": [
    "### Collect Crypto Prices Using the `requests` Library"
   ],
   "metadata": {}
  },
  {
   "cell_type": "code",
   "execution_count": 4,
   "source": [
    "# Set current amount of crypto assets\r\n",
    "amount_btc = 1.2\r\n",
    "amount_eth = 5.3"
   ],
   "outputs": [],
   "metadata": {}
  },
  {
   "cell_type": "code",
   "execution_count": 5,
   "source": [
    "# Crypto API URLs\r\n",
    "btc_url = \"https://api.alternative.me/v2/ticker/Bitcoin/?convert=USD\"\r\n",
    "eth_url = \"https://api.alternative.me/v2/ticker/Ethereum/?convert=USD\""
   ],
   "outputs": [],
   "metadata": {}
  },
  {
   "cell_type": "code",
   "execution_count": 6,
   "source": [
    "# Fetch current BTC price\r\n",
    "response_data_btc = requests.get(btc_url)\r\n",
    "data_btc = response_data_btc.json()\r\n",
    "price_btc = data_btc[\"data\"][\"1\"][\"quotes\"][\"USD\"][\"price\"]\r\n",
    "#print(price_btc)\r\n",
    "\r\n",
    "# Fetch current ETH price\r\n",
    "response_data_eth = requests.get(eth_url)\r\n",
    "data_eth = response_data_eth.json()\r\n",
    "price_eth = data_eth[\"data\"][\"1027\"][\"quotes\"][\"USD\"][\"price\"]\r\n",
    "#print(price_eth)\r\n",
    "\r\n",
    "#print(json.dumps(data_eth,indent=4))\r\n",
    "\r\n",
    "# Compute current value of my crypto\r\n",
    "current_value_crypto_btc = (price_btc * amount_btc)\r\n",
    "current_value_crypto_eth = (price_eth * amount_eth)\r\n",
    "\r\n",
    "# Compute combined value of crypto\r\n",
    "current_value_crypto_combined = (price_btc * amount_btc) + (price_eth * amount_eth)\r\n",
    "\r\n",
    "# Print current crypto wallet balance\r\n",
    "print(f\"The current value of your {amount_btc} BTC is ${current_value_crypto_btc:0.2f}\")\r\n",
    "print(f\"The current value of your {amount_eth} ETH is ${current_value_crypto_eth:0.2f}\")\r\n",
    "print(f\"The current combined value of your crypto is ${current_value_crypto_combined:0.2f}\")\r\n"
   ],
   "outputs": [
    {
     "output_type": "stream",
     "name": "stdout",
     "text": [
      "The current value of your 1.2 BTC is $66290.40\n",
      "The current value of your 5.3 ETH is $19005.96\n",
      "The current combined value of your crypto is $85296.36\n"
     ]
    }
   ],
   "metadata": {}
  },
  {
   "cell_type": "markdown",
   "source": [
    "### Collect Investments Data Using Alpaca: `SPY` (stocks) and `AGG` (bonds)"
   ],
   "metadata": {}
  },
  {
   "cell_type": "code",
   "execution_count": 7,
   "source": [
    "# Set current amount of shares\r\n",
    "my_agg = 200\r\n",
    "my_spy = 50"
   ],
   "outputs": [],
   "metadata": {}
  },
  {
   "cell_type": "code",
   "execution_count": 8,
   "source": [
    "# Set Alpaca API key and secret\r\n",
    "alpaca_api_key = os.getenv(\"alpaca_api_key\")\r\n",
    "alpaca_secret_key = os.getenv(\"alpaca_secret_key\")\r\n",
    "\r\n",
    "# Create the Alpaca API object\r\n",
    "alpaca = tradeapi.REST(\r\n",
    "    alpaca_api_key,\r\n",
    "    alpaca_secret_key,\r\n",
    "    api_version=\"v2\"\r\n",
    ")"
   ],
   "outputs": [],
   "metadata": {}
  },
  {
   "cell_type": "code",
   "execution_count": 9,
   "source": [
    "# Format current date as ISO format\r\n",
    "today = pd.Timestamp(\"2020-10-2\", tz=\"America/New_York\").isoformat()\r\n",
    "\r\n",
    "# Set the tickers\r\n",
    "tickers = [\"AGG\", \"SPY\"]\r\n",
    "\r\n",
    "# Set timeframe to '1D' for Alpaca API\r\n",
    "timeframe = \"1D\"\r\n",
    "\r\n",
    "# Get current closing prices for SPY and AGG\r\n",
    "# (use a limit=1000 parameter to call the most recent 1000 days of data)\r\n",
    "df_portfolio = alpaca.get_barset(\r\n",
    "    tickers,\r\n",
    "    timeframe,\r\n",
    "    start = today,\r\n",
    "    end = today,\r\n",
    "    limit = 1000\r\n",
    ").df\r\n",
    "\r\n",
    "# Preview DataFrame\r\n",
    "df_portfolio.head()"
   ],
   "outputs": [
    {
     "output_type": "execute_result",
     "data": {
      "text/html": [
       "<div>\n",
       "<style scoped>\n",
       "    .dataframe tbody tr th:only-of-type {\n",
       "        vertical-align: middle;\n",
       "    }\n",
       "\n",
       "    .dataframe tbody tr th {\n",
       "        vertical-align: top;\n",
       "    }\n",
       "\n",
       "    .dataframe thead tr th {\n",
       "        text-align: left;\n",
       "    }\n",
       "\n",
       "    .dataframe thead tr:last-of-type th {\n",
       "        text-align: right;\n",
       "    }\n",
       "</style>\n",
       "<table border=\"1\" class=\"dataframe\">\n",
       "  <thead>\n",
       "    <tr>\n",
       "      <th></th>\n",
       "      <th colspan=\"5\" halign=\"left\">AGG</th>\n",
       "      <th colspan=\"5\" halign=\"left\">SPY</th>\n",
       "    </tr>\n",
       "    <tr>\n",
       "      <th></th>\n",
       "      <th>open</th>\n",
       "      <th>high</th>\n",
       "      <th>low</th>\n",
       "      <th>close</th>\n",
       "      <th>volume</th>\n",
       "      <th>open</th>\n",
       "      <th>high</th>\n",
       "      <th>low</th>\n",
       "      <th>close</th>\n",
       "      <th>volume</th>\n",
       "    </tr>\n",
       "    <tr>\n",
       "      <th>time</th>\n",
       "      <th></th>\n",
       "      <th></th>\n",
       "      <th></th>\n",
       "      <th></th>\n",
       "      <th></th>\n",
       "      <th></th>\n",
       "      <th></th>\n",
       "      <th></th>\n",
       "      <th></th>\n",
       "      <th></th>\n",
       "    </tr>\n",
       "  </thead>\n",
       "  <tbody>\n",
       "    <tr>\n",
       "      <th>2020-10-02 00:00:00-04:00</th>\n",
       "      <td>118.03</td>\n",
       "      <td>118.04</td>\n",
       "      <td>117.81</td>\n",
       "      <td>117.92</td>\n",
       "      <td>5356203</td>\n",
       "      <td>331.7</td>\n",
       "      <td>337.0126</td>\n",
       "      <td>331.19</td>\n",
       "      <td>333.87</td>\n",
       "      <td>72640620</td>\n",
       "    </tr>\n",
       "  </tbody>\n",
       "</table>\n",
       "</div>"
      ],
      "text/plain": [
       "                              AGG                                     SPY  \\\n",
       "                             open    high     low   close   volume   open   \n",
       "time                                                                        \n",
       "2020-10-02 00:00:00-04:00  118.03  118.04  117.81  117.92  5356203  331.7   \n",
       "\n",
       "                                                               \n",
       "                               high     low   close    volume  \n",
       "time                                                           \n",
       "2020-10-02 00:00:00-04:00  337.0126  331.19  333.87  72640620  "
      ]
     },
     "metadata": {},
     "execution_count": 9
    }
   ],
   "metadata": {}
  },
  {
   "cell_type": "code",
   "execution_count": 10,
   "source": [
    "# Pick AGG and SPY close prices\r\n",
    "agg_close_price = df_portfolio.iloc[0][3]\r\n",
    "spy_close_price = df_portfolio.iloc[0][8]\r\n",
    "\r\n",
    "\r\n",
    "# Print AGG and SPY close prices\r\n",
    "print(f\"Current AGG closing price: ${agg_close_price}\")\r\n",
    "print(f\"Current SPY closing price: ${spy_close_price}\")\r\n"
   ],
   "outputs": [
    {
     "output_type": "stream",
     "name": "stdout",
     "text": [
      "Current AGG closing price: $117.92\n",
      "Current SPY closing price: $333.87\n"
     ]
    }
   ],
   "metadata": {}
  },
  {
   "cell_type": "code",
   "execution_count": 11,
   "source": [
    "# Compute the current value of shares\r\n",
    "my_spy_value = (spy_close_price * my_spy)  \r\n",
    "my_agg_value = (agg_close_price * my_agg)\r\n",
    "\r\n",
    "#Compute combined value of shares\r\n",
    "current_value_shares_combined = (spy_close_price * my_spy) + (agg_close_price * my_agg)\r\n",
    "\r\n",
    "# Print current value of shares\r\n",
    "print(f\"The current value of your {my_spy} SPY shares is ${my_spy_value:0.2f}\")\r\n",
    "print(f\"The current value of your {my_agg} AGG shares is ${my_agg_value:0.2f}\")\r\n",
    "\r\n",
    "#Print combined value of shares\r\n",
    "print(f\"The current combined value of your shares is ${current_value_shares_combined:0.2f}\")"
   ],
   "outputs": [
    {
     "output_type": "stream",
     "name": "stdout",
     "text": [
      "The current value of your 50 SPY shares is $16693.50\n",
      "The current value of your 200 AGG shares is $23584.00\n",
      "The current combined value of your shares is $40277.50\n"
     ]
    }
   ],
   "metadata": {}
  },
  {
   "cell_type": "markdown",
   "source": [
    "### Savings Health Analysis"
   ],
   "metadata": {}
  },
  {
   "cell_type": "code",
   "execution_count": 12,
   "source": [
    "# Set monthly household income\r\n",
    "monthly_income = 12000\r\n",
    "\r\n",
    "# Consolidate financial assets data\r\n",
    "#data = {\"labels\":[\"crypto\", \"shares\"], \"amount\": [current_value_crypto_combined, current_value_shares_combined]}\r\n",
    "data = [current_value_crypto_combined, current_value_shares_combined]\r\n",
    "\r\n",
    "# Create savings DataFrame\r\n",
    "df_savings = pd.DataFrame(data, columns=[\"amount\"], index=[\"crypto\", \"shares\"])\r\n",
    "\r\n",
    "# Display savings DataFrame\r\n",
    "df_savings"
   ],
   "outputs": [
    {
     "output_type": "execute_result",
     "data": {
      "text/html": [
       "<div>\n",
       "<style scoped>\n",
       "    .dataframe tbody tr th:only-of-type {\n",
       "        vertical-align: middle;\n",
       "    }\n",
       "\n",
       "    .dataframe tbody tr th {\n",
       "        vertical-align: top;\n",
       "    }\n",
       "\n",
       "    .dataframe thead th {\n",
       "        text-align: right;\n",
       "    }\n",
       "</style>\n",
       "<table border=\"1\" class=\"dataframe\">\n",
       "  <thead>\n",
       "    <tr style=\"text-align: right;\">\n",
       "      <th></th>\n",
       "      <th>amount</th>\n",
       "    </tr>\n",
       "  </thead>\n",
       "  <tbody>\n",
       "    <tr>\n",
       "      <th>crypto</th>\n",
       "      <td>85296.359</td>\n",
       "    </tr>\n",
       "    <tr>\n",
       "      <th>shares</th>\n",
       "      <td>40277.500</td>\n",
       "    </tr>\n",
       "  </tbody>\n",
       "</table>\n",
       "</div>"
      ],
      "text/plain": [
       "           amount\n",
       "crypto  85296.359\n",
       "shares  40277.500"
      ]
     },
     "metadata": {},
     "execution_count": 12
    }
   ],
   "metadata": {}
  },
  {
   "cell_type": "code",
   "execution_count": 13,
   "source": [
    "# Plot savings pie chart\r\n",
    "df_savings.plot.pie(y = \"amount\")"
   ],
   "outputs": [
    {
     "output_type": "execute_result",
     "data": {
      "text/plain": [
       "<AxesSubplot:ylabel='amount'>"
      ]
     },
     "metadata": {},
     "execution_count": 13
    },
    {
     "output_type": "display_data",
     "data": {
      "image/png": "[encoded data removed]",
      "text/plain": [
       "<Figure size 432x288 with 1 Axes>"
      ]
     },
     "metadata": {}
    }
   ],
   "metadata": {}
  },
  {
   "cell_type": "code",
   "execution_count": 14,
   "source": [
    "# Set ideal emergency fund\r\n",
    "emergency_fund = monthly_income * 3\r\n",
    "\r\n",
    "\r\n",
    "\r\n",
    "# Calculate total amount of savings\r\n",
    "total_amount_of_savings = (current_value_crypto_combined + current_value_shares_combined)\r\n",
    "\r\n",
    "# Define variable to calculate surplus or defecit in savings amount compared to emergency fund\r\n",
    "x = str(emergency_fund - total_amount_of_savings)\r\n",
    "\r\n",
    "# Validate saving health\r\n",
    "if total_amount_of_savings > emergency_fund:\r\n",
    "    print(\"Congratulations, you have more than enough in your savings in case of a financial rainy day.\")\r\n",
    "elif total_amount_of_savings == emergency_fund:\r\n",
    "    print(\"You have just enough in your savings in case of a financial rainy day\")\r\n",
    "else:\r\n",
    "    print(\"You need to increase the amount in your savings by \" + \"$\" + x)\r\n",
    "\r\n"
   ],
   "outputs": [
    {
     "output_type": "stream",
     "name": "stdout",
     "text": [
      "Congratulations, you have more than enough in your savings in case of a financial rainy day.\n"
     ]
    }
   ],
   "metadata": {}
  },
  {
   "cell_type": "markdown",
   "source": [
    "## Part 2 - Retirement Planning\n",
    "\n",
    "### Monte Carlo Simulation"
   ],
   "metadata": {}
  },
  {
   "cell_type": "code",
   "execution_count": 15,
   "source": [
    "# Set start and end dates of five years back from today.\r\n",
    "# Sample results may vary from the solution based on the time frame chosen\r\n",
    "start_date = pd.Timestamp('2016-05-01', tz='America/New_York').isoformat()\r\n",
    "end_date = pd.Timestamp('2021-05-01', tz='America/New_York').isoformat()"
   ],
   "outputs": [],
   "metadata": {}
  },
  {
   "cell_type": "code",
   "execution_count": 20,
   "source": [
    "# Get 5 years' worth of historical data for SPY and AGG\r\n",
    "# (use a limit=1000 parameter to call the most recent 1000 days of data)\r\n",
    "df_portfolio_5_years = alpaca.get_barset(\r\n",
    "    tickers,\r\n",
    "    timeframe,\r\n",
    "    start = start_date,\r\n",
    "    end = end_date,\r\n",
    "    limit = 1000\r\n",
    ").df\r\n",
    "\r\n",
    "# Display sample data\r\n",
    "df_portfolio_5_years.head()"
   ],
   "outputs": [
    {
     "output_type": "execute_result",
     "data": {
      "text/html": [
       "<div>\n",
       "<style scoped>\n",
       "    .dataframe tbody tr th:only-of-type {\n",
       "        vertical-align: middle;\n",
       "    }\n",
       "\n",
       "    .dataframe tbody tr th {\n",
       "        vertical-align: top;\n",
       "    }\n",
       "\n",
       "    .dataframe thead tr th {\n",
       "        text-align: left;\n",
       "    }\n",
       "\n",
       "    .dataframe thead tr:last-of-type th {\n",
       "        text-align: right;\n",
       "    }\n",
       "</style>\n",
       "<table border=\"1\" class=\"dataframe\">\n",
       "  <thead>\n",
       "    <tr>\n",
       "      <th></th>\n",
       "      <th colspan=\"5\" halign=\"left\">AGG</th>\n",
       "      <th colspan=\"5\" halign=\"left\">SPY</th>\n",
       "    </tr>\n",
       "    <tr>\n",
       "      <th></th>\n",
       "      <th>open</th>\n",
       "      <th>high</th>\n",
       "      <th>low</th>\n",
       "      <th>close</th>\n",
       "      <th>volume</th>\n",
       "      <th>open</th>\n",
       "      <th>high</th>\n",
       "      <th>low</th>\n",
       "      <th>close</th>\n",
       "      <th>volume</th>\n",
       "    </tr>\n",
       "    <tr>\n",
       "      <th>time</th>\n",
       "      <th></th>\n",
       "      <th></th>\n",
       "      <th></th>\n",
       "      <th></th>\n",
       "      <th></th>\n",
       "      <th></th>\n",
       "      <th></th>\n",
       "      <th></th>\n",
       "      <th></th>\n",
       "      <th></th>\n",
       "    </tr>\n",
       "  </thead>\n",
       "  <tbody>\n",
       "    <tr>\n",
       "      <th>2017-05-11 00:00:00-04:00</th>\n",
       "      <td>108.35</td>\n",
       "      <td>108.540</td>\n",
       "      <td>108.3435</td>\n",
       "      <td>108.515</td>\n",
       "      <td>1773499</td>\n",
       "      <td>239.35</td>\n",
       "      <td>239.57</td>\n",
       "      <td>238.13</td>\n",
       "      <td>239.410</td>\n",
       "      <td>45435690</td>\n",
       "    </tr>\n",
       "    <tr>\n",
       "      <th>2017-05-12 00:00:00-04:00</th>\n",
       "      <td>108.81</td>\n",
       "      <td>108.940</td>\n",
       "      <td>108.7800</td>\n",
       "      <td>108.920</td>\n",
       "      <td>1136553</td>\n",
       "      <td>239.09</td>\n",
       "      <td>239.21</td>\n",
       "      <td>238.67</td>\n",
       "      <td>239.030</td>\n",
       "      <td>35283567</td>\n",
       "    </tr>\n",
       "    <tr>\n",
       "      <th>2017-05-15 00:00:00-04:00</th>\n",
       "      <td>108.85</td>\n",
       "      <td>108.940</td>\n",
       "      <td>108.8200</td>\n",
       "      <td>108.890</td>\n",
       "      <td>1620264</td>\n",
       "      <td>239.47</td>\n",
       "      <td>240.44</td>\n",
       "      <td>239.45</td>\n",
       "      <td>240.245</td>\n",
       "      <td>42230620</td>\n",
       "    </tr>\n",
       "    <tr>\n",
       "      <th>2017-05-16 00:00:00-04:00</th>\n",
       "      <td>108.88</td>\n",
       "      <td>109.101</td>\n",
       "      <td>108.8800</td>\n",
       "      <td>109.000</td>\n",
       "      <td>1394153</td>\n",
       "      <td>240.62</td>\n",
       "      <td>240.67</td>\n",
       "      <td>239.63</td>\n",
       "      <td>240.100</td>\n",
       "      <td>37206183</td>\n",
       "    </tr>\n",
       "    <tr>\n",
       "      <th>2017-05-17 00:00:00-04:00</th>\n",
       "      <td>109.35</td>\n",
       "      <td>109.600</td>\n",
       "      <td>109.2800</td>\n",
       "      <td>109.560</td>\n",
       "      <td>2263851</td>\n",
       "      <td>238.10</td>\n",
       "      <td>238.64</td>\n",
       "      <td>235.75</td>\n",
       "      <td>235.850</td>\n",
       "      <td>118613594</td>\n",
       "    </tr>\n",
       "  </tbody>\n",
       "</table>\n",
       "</div>"
      ],
      "text/plain": [
       "                              AGG                                       \\\n",
       "                             open     high       low    close   volume   \n",
       "time                                                                     \n",
       "2017-05-11 00:00:00-04:00  108.35  108.540  108.3435  108.515  1773499   \n",
       "2017-05-12 00:00:00-04:00  108.81  108.940  108.7800  108.920  1136553   \n",
       "2017-05-15 00:00:00-04:00  108.85  108.940  108.8200  108.890  1620264   \n",
       "2017-05-16 00:00:00-04:00  108.88  109.101  108.8800  109.000  1394153   \n",
       "2017-05-17 00:00:00-04:00  109.35  109.600  109.2800  109.560  2263851   \n",
       "\n",
       "                              SPY                                      \n",
       "                             open    high     low    close     volume  \n",
       "time                                                                   \n",
       "2017-05-11 00:00:00-04:00  239.35  239.57  238.13  239.410   45435690  \n",
       "2017-05-12 00:00:00-04:00  239.09  239.21  238.67  239.030   35283567  \n",
       "2017-05-15 00:00:00-04:00  239.47  240.44  239.45  240.245   42230620  \n",
       "2017-05-16 00:00:00-04:00  240.62  240.67  239.63  240.100   37206183  \n",
       "2017-05-17 00:00:00-04:00  238.10  238.64  235.75  235.850  118613594  "
      ]
     },
     "metadata": {},
     "execution_count": 20
    }
   ],
   "metadata": {}
  },
  {
   "cell_type": "code",
   "execution_count": 27,
   "source": [
    "# Configuring a Monte Carlo simulation to forecast 30 years cumulative returns\r\n",
    "MC_5_year = MCSimulation(\r\n",
    "    portfolio_data = df_portfolio_5_years,\r\n",
    "    weights = [.40,.60],\r\n",
    "    num_simulation = 500,\r\n",
    "    num_trading_days = 252 * 30\r\n",
    ")"
   ],
   "outputs": [],
   "metadata": {}
  },
  {
   "cell_type": "code",
   "execution_count": 28,
   "source": [
    "# Printing the simulation input data\r\n",
    "MC_5_year.portfolio_data.head()"
   ],
   "outputs": [
    {
     "output_type": "execute_result",
     "data": {
      "text/html": [
       "<div>\n",
       "<style scoped>\n",
       "    .dataframe tbody tr th:only-of-type {\n",
       "        vertical-align: middle;\n",
       "    }\n",
       "\n",
       "    .dataframe tbody tr th {\n",
       "        vertical-align: top;\n",
       "    }\n",
       "\n",
       "    .dataframe thead tr th {\n",
       "        text-align: left;\n",
       "    }\n",
       "\n",
       "    .dataframe thead tr:last-of-type th {\n",
       "        text-align: right;\n",
       "    }\n",
       "</style>\n",
       "<table border=\"1\" class=\"dataframe\">\n",
       "  <thead>\n",
       "    <tr>\n",
       "      <th></th>\n",
       "      <th colspan=\"6\" halign=\"left\">AGG</th>\n",
       "      <th colspan=\"6\" halign=\"left\">SPY</th>\n",
       "    </tr>\n",
       "    <tr>\n",
       "      <th></th>\n",
       "      <th>open</th>\n",
       "      <th>high</th>\n",
       "      <th>low</th>\n",
       "      <th>close</th>\n",
       "      <th>volume</th>\n",
       "      <th>daily_return</th>\n",
       "      <th>open</th>\n",
       "      <th>high</th>\n",
       "      <th>low</th>\n",
       "      <th>close</th>\n",
       "      <th>volume</th>\n",
       "      <th>daily_return</th>\n",
       "    </tr>\n",
       "    <tr>\n",
       "      <th>time</th>\n",
       "      <th></th>\n",
       "      <th></th>\n",
       "      <th></th>\n",
       "      <th></th>\n",
       "      <th></th>\n",
       "      <th></th>\n",
       "      <th></th>\n",
       "      <th></th>\n",
       "      <th></th>\n",
       "      <th></th>\n",
       "      <th></th>\n",
       "      <th></th>\n",
       "    </tr>\n",
       "  </thead>\n",
       "  <tbody>\n",
       "    <tr>\n",
       "      <th>2017-05-11 00:00:00-04:00</th>\n",
       "      <td>108.35</td>\n",
       "      <td>108.540</td>\n",
       "      <td>108.3435</td>\n",
       "      <td>108.515</td>\n",
       "      <td>1773499</td>\n",
       "      <td>NaN</td>\n",
       "      <td>239.35</td>\n",
       "      <td>239.57</td>\n",
       "      <td>238.13</td>\n",
       "      <td>239.410</td>\n",
       "      <td>45435690</td>\n",
       "      <td>NaN</td>\n",
       "    </tr>\n",
       "    <tr>\n",
       "      <th>2017-05-12 00:00:00-04:00</th>\n",
       "      <td>108.81</td>\n",
       "      <td>108.940</td>\n",
       "      <td>108.7800</td>\n",
       "      <td>108.920</td>\n",
       "      <td>1136553</td>\n",
       "      <td>0.003732</td>\n",
       "      <td>239.09</td>\n",
       "      <td>239.21</td>\n",
       "      <td>238.67</td>\n",
       "      <td>239.030</td>\n",
       "      <td>35283567</td>\n",
       "      <td>-0.001587</td>\n",
       "    </tr>\n",
       "    <tr>\n",
       "      <th>2017-05-15 00:00:00-04:00</th>\n",
       "      <td>108.85</td>\n",
       "      <td>108.940</td>\n",
       "      <td>108.8200</td>\n",
       "      <td>108.890</td>\n",
       "      <td>1620264</td>\n",
       "      <td>-0.000275</td>\n",
       "      <td>239.47</td>\n",
       "      <td>240.44</td>\n",
       "      <td>239.45</td>\n",
       "      <td>240.245</td>\n",
       "      <td>42230620</td>\n",
       "      <td>0.005083</td>\n",
       "    </tr>\n",
       "    <tr>\n",
       "      <th>2017-05-16 00:00:00-04:00</th>\n",
       "      <td>108.88</td>\n",
       "      <td>109.101</td>\n",
       "      <td>108.8800</td>\n",
       "      <td>109.000</td>\n",
       "      <td>1394153</td>\n",
       "      <td>0.001010</td>\n",
       "      <td>240.62</td>\n",
       "      <td>240.67</td>\n",
       "      <td>239.63</td>\n",
       "      <td>240.100</td>\n",
       "      <td>37206183</td>\n",
       "      <td>-0.000604</td>\n",
       "    </tr>\n",
       "    <tr>\n",
       "      <th>2017-05-17 00:00:00-04:00</th>\n",
       "      <td>109.35</td>\n",
       "      <td>109.600</td>\n",
       "      <td>109.2800</td>\n",
       "      <td>109.560</td>\n",
       "      <td>2263851</td>\n",
       "      <td>0.005138</td>\n",
       "      <td>238.10</td>\n",
       "      <td>238.64</td>\n",
       "      <td>235.75</td>\n",
       "      <td>235.850</td>\n",
       "      <td>118613594</td>\n",
       "      <td>-0.017701</td>\n",
       "    </tr>\n",
       "  </tbody>\n",
       "</table>\n",
       "</div>"
      ],
      "text/plain": [
       "                              AGG                                       \\\n",
       "                             open     high       low    close   volume   \n",
       "time                                                                     \n",
       "2017-05-11 00:00:00-04:00  108.35  108.540  108.3435  108.515  1773499   \n",
       "2017-05-12 00:00:00-04:00  108.81  108.940  108.7800  108.920  1136553   \n",
       "2017-05-15 00:00:00-04:00  108.85  108.940  108.8200  108.890  1620264   \n",
       "2017-05-16 00:00:00-04:00  108.88  109.101  108.8800  109.000  1394153   \n",
       "2017-05-17 00:00:00-04:00  109.35  109.600  109.2800  109.560  2263851   \n",
       "\n",
       "                                           SPY                           \\\n",
       "                          daily_return    open    high     low    close   \n",
       "time                                                                      \n",
       "2017-05-11 00:00:00-04:00          NaN  239.35  239.57  238.13  239.410   \n",
       "2017-05-12 00:00:00-04:00     0.003732  239.09  239.21  238.67  239.030   \n",
       "2017-05-15 00:00:00-04:00    -0.000275  239.47  240.44  239.45  240.245   \n",
       "2017-05-16 00:00:00-04:00     0.001010  240.62  240.67  239.63  240.100   \n",
       "2017-05-17 00:00:00-04:00     0.005138  238.10  238.64  235.75  235.850   \n",
       "\n",
       "                                                   \n",
       "                              volume daily_return  \n",
       "time                                               \n",
       "2017-05-11 00:00:00-04:00   45435690          NaN  \n",
       "2017-05-12 00:00:00-04:00   35283567    -0.001587  \n",
       "2017-05-15 00:00:00-04:00   42230620     0.005083  \n",
       "2017-05-16 00:00:00-04:00   37206183    -0.000604  \n",
       "2017-05-17 00:00:00-04:00  118613594    -0.017701  "
      ]
     },
     "metadata": {},
     "execution_count": 28
    }
   ],
   "metadata": {}
  },
  {
   "cell_type": "code",
   "execution_count": 29,
   "source": [
    "# Running a Monte Carlo simulation to forecast 30 years cumulative returns\r\n",
    "MC_5_year.calc_cumulative_return()"
   ],
   "outputs": [
    {
     "output_type": "stream",
     "name": "stdout",
     "text": [
      "Running Monte Carlo simulation number 0.\n",
      "Running Monte Carlo simulation number 10.\n",
      "Running Monte Carlo simulation number 20.\n",
      "Running Monte Carlo simulation number 30.\n",
      "Running Monte Carlo simulation number 40.\n",
      "Running Monte Carlo simulation number 50.\n",
      "Running Monte Carlo simulation number 60.\n",
      "Running Monte Carlo simulation number 70.\n",
      "Running Monte Carlo simulation number 80.\n",
      "Running Monte Carlo simulation number 90.\n",
      "Running Monte Carlo simulation number 100.\n",
      "Running Monte Carlo simulation number 110.\n",
      "Running Monte Carlo simulation number 120.\n",
      "Running Monte Carlo simulation number 130.\n",
      "Running Monte Carlo simulation number 140.\n",
      "Running Monte Carlo simulation number 150.\n",
      "Running Monte Carlo simulation number 160.\n",
      "Running Monte Carlo simulation number 170.\n",
      "Running Monte Carlo simulation number 180.\n",
      "Running Monte Carlo simulation number 190.\n",
      "Running Monte Carlo simulation number 200.\n",
      "Running Monte Carlo simulation number 210.\n",
      "Running Monte Carlo simulation number 220.\n",
      "Running Monte Carlo simulation number 230.\n",
      "Running Monte Carlo simulation number 240.\n",
      "Running Monte Carlo simulation number 250.\n",
      "Running Monte Carlo simulation number 260.\n",
      "Running Monte Carlo simulation number 270.\n",
      "Running Monte Carlo simulation number 280.\n",
      "Running Monte Carlo simulation number 290.\n",
      "Running Monte Carlo simulation number 300.\n",
      "Running Monte Carlo simulation number 310.\n",
      "Running Monte Carlo simulation number 320.\n",
      "Running Monte Carlo simulation number 330.\n",
      "Running Monte Carlo simulation number 340.\n",
      "Running Monte Carlo simulation number 350.\n",
      "Running Monte Carlo simulation number 360.\n",
      "Running Monte Carlo simulation number 370.\n",
      "Running Monte Carlo simulation number 380.\n",
      "Running Monte Carlo simulation number 390.\n",
      "Running Monte Carlo simulation number 400.\n",
      "Running Monte Carlo simulation number 410.\n",
      "Running Monte Carlo simulation number 420.\n",
      "Running Monte Carlo simulation number 430.\n",
      "Running Monte Carlo simulation number 440.\n",
      "Running Monte Carlo simulation number 450.\n",
      "Running Monte Carlo simulation number 460.\n",
      "Running Monte Carlo simulation number 470.\n",
      "Running Monte Carlo simulation number 480.\n",
      "Running Monte Carlo simulation number 490.\n"
     ]
    },
    {
     "output_type": "execute_result",
     "data": {
      "text/html": [
       "<div>\n",
       "<style scoped>\n",
       "    .dataframe tbody tr th:only-of-type {\n",
       "        vertical-align: middle;\n",
       "    }\n",
       "\n",
       "    .dataframe tbody tr th {\n",
       "        vertical-align: top;\n",
       "    }\n",
       "\n",
       "    .dataframe thead th {\n",
       "        text-align: right;\n",
       "    }\n",
       "</style>\n",
       "<table border=\"1\" class=\"dataframe\">\n",
       "  <thead>\n",
       "    <tr style=\"text-align: right;\">\n",
       "      <th></th>\n",
       "      <th>0</th>\n",
       "      <th>1</th>\n",
       "      <th>2</th>\n",
       "      <th>3</th>\n",
       "      <th>4</th>\n",
       "      <th>5</th>\n",
       "      <th>6</th>\n",
       "      <th>7</th>\n",
       "      <th>8</th>\n",
       "      <th>9</th>\n",
       "      <th>...</th>\n",
       "      <th>490</th>\n",
       "      <th>491</th>\n",
       "      <th>492</th>\n",
       "      <th>493</th>\n",
       "      <th>494</th>\n",
       "      <th>495</th>\n",
       "      <th>496</th>\n",
       "      <th>497</th>\n",
       "      <th>498</th>\n",
       "      <th>499</th>\n",
       "    </tr>\n",
       "  </thead>\n",
       "  <tbody>\n",
       "    <tr>\n",
       "      <th>0</th>\n",
       "      <td>1.000000</td>\n",
       "      <td>1.000000</td>\n",
       "      <td>1.000000</td>\n",
       "      <td>1.000000</td>\n",
       "      <td>1.000000</td>\n",
       "      <td>1.000000</td>\n",
       "      <td>1.000000</td>\n",
       "      <td>1.000000</td>\n",
       "      <td>1.000000</td>\n",
       "      <td>1.000000</td>\n",
       "      <td>...</td>\n",
       "      <td>1.000000</td>\n",
       "      <td>1.000000</td>\n",
       "      <td>1.000000</td>\n",
       "      <td>1.000000</td>\n",
       "      <td>1.000000</td>\n",
       "      <td>1.000000</td>\n",
       "      <td>1.000000</td>\n",
       "      <td>1.000000</td>\n",
       "      <td>1.000000</td>\n",
       "      <td>1.000000</td>\n",
       "    </tr>\n",
       "    <tr>\n",
       "      <th>1</th>\n",
       "      <td>0.994324</td>\n",
       "      <td>1.000992</td>\n",
       "      <td>1.005588</td>\n",
       "      <td>0.991653</td>\n",
       "      <td>0.992305</td>\n",
       "      <td>1.010071</td>\n",
       "      <td>0.985770</td>\n",
       "      <td>0.993217</td>\n",
       "      <td>0.992357</td>\n",
       "      <td>1.008521</td>\n",
       "      <td>...</td>\n",
       "      <td>1.008387</td>\n",
       "      <td>0.991990</td>\n",
       "      <td>0.998356</td>\n",
       "      <td>0.998538</td>\n",
       "      <td>1.013739</td>\n",
       "      <td>0.991725</td>\n",
       "      <td>1.002358</td>\n",
       "      <td>1.008860</td>\n",
       "      <td>0.996691</td>\n",
       "      <td>1.006634</td>\n",
       "    </tr>\n",
       "    <tr>\n",
       "      <th>2</th>\n",
       "      <td>0.988880</td>\n",
       "      <td>0.994914</td>\n",
       "      <td>1.010427</td>\n",
       "      <td>1.001912</td>\n",
       "      <td>0.989388</td>\n",
       "      <td>1.021692</td>\n",
       "      <td>0.985682</td>\n",
       "      <td>0.982798</td>\n",
       "      <td>0.987760</td>\n",
       "      <td>1.006628</td>\n",
       "      <td>...</td>\n",
       "      <td>1.016947</td>\n",
       "      <td>0.989440</td>\n",
       "      <td>1.005079</td>\n",
       "      <td>0.995885</td>\n",
       "      <td>1.012882</td>\n",
       "      <td>0.988038</td>\n",
       "      <td>0.997265</td>\n",
       "      <td>1.002383</td>\n",
       "      <td>0.995458</td>\n",
       "      <td>1.016732</td>\n",
       "    </tr>\n",
       "    <tr>\n",
       "      <th>3</th>\n",
       "      <td>0.997421</td>\n",
       "      <td>0.986334</td>\n",
       "      <td>1.012508</td>\n",
       "      <td>1.014984</td>\n",
       "      <td>0.983214</td>\n",
       "      <td>1.028866</td>\n",
       "      <td>0.997622</td>\n",
       "      <td>0.982074</td>\n",
       "      <td>0.983050</td>\n",
       "      <td>1.000884</td>\n",
       "      <td>...</td>\n",
       "      <td>1.010263</td>\n",
       "      <td>0.992137</td>\n",
       "      <td>0.991364</td>\n",
       "      <td>0.990851</td>\n",
       "      <td>1.023735</td>\n",
       "      <td>0.976966</td>\n",
       "      <td>0.986621</td>\n",
       "      <td>1.001279</td>\n",
       "      <td>0.989528</td>\n",
       "      <td>1.007956</td>\n",
       "    </tr>\n",
       "    <tr>\n",
       "      <th>4</th>\n",
       "      <td>0.999408</td>\n",
       "      <td>0.986308</td>\n",
       "      <td>1.024430</td>\n",
       "      <td>1.011551</td>\n",
       "      <td>0.986816</td>\n",
       "      <td>1.029027</td>\n",
       "      <td>0.999150</td>\n",
       "      <td>0.992779</td>\n",
       "      <td>0.980174</td>\n",
       "      <td>1.004507</td>\n",
       "      <td>...</td>\n",
       "      <td>1.002792</td>\n",
       "      <td>0.977007</td>\n",
       "      <td>0.982688</td>\n",
       "      <td>0.996652</td>\n",
       "      <td>1.018327</td>\n",
       "      <td>0.975697</td>\n",
       "      <td>0.986195</td>\n",
       "      <td>1.007127</td>\n",
       "      <td>0.997199</td>\n",
       "      <td>1.022392</td>\n",
       "    </tr>\n",
       "    <tr>\n",
       "      <th>...</th>\n",
       "      <td>...</td>\n",
       "      <td>...</td>\n",
       "      <td>...</td>\n",
       "      <td>...</td>\n",
       "      <td>...</td>\n",
       "      <td>...</td>\n",
       "      <td>...</td>\n",
       "      <td>...</td>\n",
       "      <td>...</td>\n",
       "      <td>...</td>\n",
       "      <td>...</td>\n",
       "      <td>...</td>\n",
       "      <td>...</td>\n",
       "      <td>...</td>\n",
       "      <td>...</td>\n",
       "      <td>...</td>\n",
       "      <td>...</td>\n",
       "      <td>...</td>\n",
       "      <td>...</td>\n",
       "      <td>...</td>\n",
       "      <td>...</td>\n",
       "    </tr>\n",
       "    <tr>\n",
       "      <th>7556</th>\n",
       "      <td>46.263464</td>\n",
       "      <td>25.794484</td>\n",
       "      <td>32.177233</td>\n",
       "      <td>10.858798</td>\n",
       "      <td>20.570756</td>\n",
       "      <td>22.155148</td>\n",
       "      <td>11.183452</td>\n",
       "      <td>32.465491</td>\n",
       "      <td>28.850304</td>\n",
       "      <td>20.642242</td>\n",
       "      <td>...</td>\n",
       "      <td>10.389467</td>\n",
       "      <td>4.930649</td>\n",
       "      <td>13.577840</td>\n",
       "      <td>5.762570</td>\n",
       "      <td>16.308789</td>\n",
       "      <td>9.361025</td>\n",
       "      <td>12.660039</td>\n",
       "      <td>27.417249</td>\n",
       "      <td>19.294862</td>\n",
       "      <td>85.829385</td>\n",
       "    </tr>\n",
       "    <tr>\n",
       "      <th>7557</th>\n",
       "      <td>45.881730</td>\n",
       "      <td>25.782658</td>\n",
       "      <td>32.329799</td>\n",
       "      <td>10.822764</td>\n",
       "      <td>20.589131</td>\n",
       "      <td>22.167479</td>\n",
       "      <td>11.383950</td>\n",
       "      <td>32.491999</td>\n",
       "      <td>29.158975</td>\n",
       "      <td>20.489256</td>\n",
       "      <td>...</td>\n",
       "      <td>10.356254</td>\n",
       "      <td>4.929566</td>\n",
       "      <td>13.461827</td>\n",
       "      <td>5.892600</td>\n",
       "      <td>16.217075</td>\n",
       "      <td>9.354767</td>\n",
       "      <td>12.634159</td>\n",
       "      <td>27.300878</td>\n",
       "      <td>19.196873</td>\n",
       "      <td>86.202211</td>\n",
       "    </tr>\n",
       "    <tr>\n",
       "      <th>7558</th>\n",
       "      <td>45.975334</td>\n",
       "      <td>25.870737</td>\n",
       "      <td>32.292085</td>\n",
       "      <td>10.905873</td>\n",
       "      <td>20.523735</td>\n",
       "      <td>21.968536</td>\n",
       "      <td>11.266995</td>\n",
       "      <td>32.915016</td>\n",
       "      <td>29.075543</td>\n",
       "      <td>20.362600</td>\n",
       "      <td>...</td>\n",
       "      <td>10.433221</td>\n",
       "      <td>5.001215</td>\n",
       "      <td>13.594633</td>\n",
       "      <td>5.881981</td>\n",
       "      <td>16.101600</td>\n",
       "      <td>9.268474</td>\n",
       "      <td>12.740422</td>\n",
       "      <td>27.345272</td>\n",
       "      <td>19.110701</td>\n",
       "      <td>86.912534</td>\n",
       "    </tr>\n",
       "    <tr>\n",
       "      <th>7559</th>\n",
       "      <td>46.008262</td>\n",
       "      <td>26.161843</td>\n",
       "      <td>32.696376</td>\n",
       "      <td>10.916941</td>\n",
       "      <td>20.554760</td>\n",
       "      <td>22.304718</td>\n",
       "      <td>11.222339</td>\n",
       "      <td>32.795996</td>\n",
       "      <td>29.125345</td>\n",
       "      <td>20.342630</td>\n",
       "      <td>...</td>\n",
       "      <td>10.528956</td>\n",
       "      <td>4.969682</td>\n",
       "      <td>13.611816</td>\n",
       "      <td>5.905739</td>\n",
       "      <td>16.104123</td>\n",
       "      <td>9.208503</td>\n",
       "      <td>12.655312</td>\n",
       "      <td>27.555758</td>\n",
       "      <td>18.950026</td>\n",
       "      <td>87.844457</td>\n",
       "    </tr>\n",
       "    <tr>\n",
       "      <th>7560</th>\n",
       "      <td>45.596105</td>\n",
       "      <td>26.163281</td>\n",
       "      <td>32.635194</td>\n",
       "      <td>10.754444</td>\n",
       "      <td>20.707802</td>\n",
       "      <td>22.037042</td>\n",
       "      <td>11.403055</td>\n",
       "      <td>33.068323</td>\n",
       "      <td>28.655855</td>\n",
       "      <td>20.611175</td>\n",
       "      <td>...</td>\n",
       "      <td>10.511547</td>\n",
       "      <td>5.038216</td>\n",
       "      <td>13.602624</td>\n",
       "      <td>5.881987</td>\n",
       "      <td>16.056839</td>\n",
       "      <td>9.194061</td>\n",
       "      <td>12.502163</td>\n",
       "      <td>27.601139</td>\n",
       "      <td>18.987094</td>\n",
       "      <td>88.099993</td>\n",
       "    </tr>\n",
       "  </tbody>\n",
       "</table>\n",
       "<p>7561 rows × 500 columns</p>\n",
       "</div>"
      ],
      "text/plain": [
       "            0          1          2          3          4          5    \\\n",
       "0      1.000000   1.000000   1.000000   1.000000   1.000000   1.000000   \n",
       "1      0.994324   1.000992   1.005588   0.991653   0.992305   1.010071   \n",
       "2      0.988880   0.994914   1.010427   1.001912   0.989388   1.021692   \n",
       "3      0.997421   0.986334   1.012508   1.014984   0.983214   1.028866   \n",
       "4      0.999408   0.986308   1.024430   1.011551   0.986816   1.029027   \n",
       "...         ...        ...        ...        ...        ...        ...   \n",
       "7556  46.263464  25.794484  32.177233  10.858798  20.570756  22.155148   \n",
       "7557  45.881730  25.782658  32.329799  10.822764  20.589131  22.167479   \n",
       "7558  45.975334  25.870737  32.292085  10.905873  20.523735  21.968536   \n",
       "7559  46.008262  26.161843  32.696376  10.916941  20.554760  22.304718   \n",
       "7560  45.596105  26.163281  32.635194  10.754444  20.707802  22.037042   \n",
       "\n",
       "            6          7          8          9    ...        490       491  \\\n",
       "0      1.000000   1.000000   1.000000   1.000000  ...   1.000000  1.000000   \n",
       "1      0.985770   0.993217   0.992357   1.008521  ...   1.008387  0.991990   \n",
       "2      0.985682   0.982798   0.987760   1.006628  ...   1.016947  0.989440   \n",
       "3      0.997622   0.982074   0.983050   1.000884  ...   1.010263  0.992137   \n",
       "4      0.999150   0.992779   0.980174   1.004507  ...   1.002792  0.977007   \n",
       "...         ...        ...        ...        ...  ...        ...       ...   \n",
       "7556  11.183452  32.465491  28.850304  20.642242  ...  10.389467  4.930649   \n",
       "7557  11.383950  32.491999  29.158975  20.489256  ...  10.356254  4.929566   \n",
       "7558  11.266995  32.915016  29.075543  20.362600  ...  10.433221  5.001215   \n",
       "7559  11.222339  32.795996  29.125345  20.342630  ...  10.528956  4.969682   \n",
       "7560  11.403055  33.068323  28.655855  20.611175  ...  10.511547  5.038216   \n",
       "\n",
       "            492       493        494       495        496        497  \\\n",
       "0      1.000000  1.000000   1.000000  1.000000   1.000000   1.000000   \n",
       "1      0.998356  0.998538   1.013739  0.991725   1.002358   1.008860   \n",
       "2      1.005079  0.995885   1.012882  0.988038   0.997265   1.002383   \n",
       "3      0.991364  0.990851   1.023735  0.976966   0.986621   1.001279   \n",
       "4      0.982688  0.996652   1.018327  0.975697   0.986195   1.007127   \n",
       "...         ...       ...        ...       ...        ...        ...   \n",
       "7556  13.577840  5.762570  16.308789  9.361025  12.660039  27.417249   \n",
       "7557  13.461827  5.892600  16.217075  9.354767  12.634159  27.300878   \n",
       "7558  13.594633  5.881981  16.101600  9.268474  12.740422  27.345272   \n",
       "7559  13.611816  5.905739  16.104123  9.208503  12.655312  27.555758   \n",
       "7560  13.602624  5.881987  16.056839  9.194061  12.502163  27.601139   \n",
       "\n",
       "            498        499  \n",
       "0      1.000000   1.000000  \n",
       "1      0.996691   1.006634  \n",
       "2      0.995458   1.016732  \n",
       "3      0.989528   1.007956  \n",
       "4      0.997199   1.022392  \n",
       "...         ...        ...  \n",
       "7556  19.294862  85.829385  \n",
       "7557  19.196873  86.202211  \n",
       "7558  19.110701  86.912534  \n",
       "7559  18.950026  87.844457  \n",
       "7560  18.987094  88.099993  \n",
       "\n",
       "[7561 rows x 500 columns]"
      ]
     },
     "metadata": {},
     "execution_count": 29
    }
   ],
   "metadata": {}
  },
  {
   "cell_type": "code",
   "execution_count": 32,
   "source": [
    "# Plot simulation outcomes\r\n",
    "line_plot = MC_5_year.plot_simulation()\r\n",
    "\r\n",
    "# Save the plot for future usage\r\n",
    "line_plot.get_figure().savefig(\"MC_5_year_sim_plot.png\", bbox_inches=\"tight\")"
   ],
   "outputs": [
    {
     "output_type": "display_data",
     "data": {
      "image/png": "[encoded data removed]",
      "text/plain": [
       "<Figure size 432x288 with 1 Axes>"
      ]
     },
     "metadata": {
      "needs_background": "light"
     }
    }
   ],
   "metadata": {}
  },
  {
   "cell_type": "code",
   "execution_count": 33,
   "source": [
    "# Plot probability distribution and confidence intervals\r\n",
    "distribution_plot = MC_5_year.plot_distribution()\r\n",
    "\r\n",
    "# Save the plot for future usage\r\n",
    "distribution_plot.get_figure().savefig(\"MC_5_year_distribution_plot.png\", bbox_inches=\"tight\")"
   ],
   "outputs": [
    {
     "output_type": "display_data",
     "data": {
      "image/png": "[encoded data removed]",
      "text/plain": [
       "<Figure size 432x288 with 1 Axes>"
      ]
     },
     "metadata": {
      "needs_background": "light"
     }
    }
   ],
   "metadata": {}
  },
  {
   "cell_type": "markdown",
   "source": [
    "### Retirement Analysis"
   ],
   "metadata": {}
  },
  {
   "cell_type": "code",
   "execution_count": 34,
   "source": [
    "# Fetch summary statistics from the Monte Carlo simulation results\r\n",
    "summary_stats = MC_5_year.summarize_cumulative_return()\r\n",
    "\r\n",
    "# Print summary statistics\r\n",
    "print(summary_stats)"
   ],
   "outputs": [
    {
     "output_type": "stream",
     "name": "stdout",
     "text": [
      "count           500.000000\n",
      "mean             22.504337\n",
      "std              21.757422\n",
      "min               2.141927\n",
      "25%              11.027647\n",
      "50%              17.288138\n",
      "75%              27.084594\n",
      "max             288.935437\n",
      "95% CI Lower      5.042247\n",
      "95% CI Upper     74.020219\n",
      "Name: 7560, dtype: float64\n"
     ]
    }
   ],
   "metadata": {}
  },
  {
   "cell_type": "markdown",
   "source": [
    "### Calculate the expected portfolio return at the `95%` lower and upper confidence intervals based on a `$20,000` initial investment."
   ],
   "metadata": {}
  },
  {
   "cell_type": "code",
   "execution_count": 63,
   "source": [
    "# Set initial investment\r\n",
    "initial_investment = 20000\r\n",
    "\r\n",
    "# Use the lower and upper `95%` confidence intervals to calculate the range of the possible outcomes of our $20,000\r\n",
    "ci_lower = round(summary_stats[8] * initial_investment,2)\r\n",
    "ci_upper = round(summary_stats[9] * initial_investment,2)\r\n",
    "\r\n",
    "# Print results\r\n",
    "print(\"There is a 95 percent chance that an initial investment of \" + \"$\" + \"{:,}\".format(initial_investment) + \" in the portfolio\" + \"\\n\"\r\n",
    "     + \"over the next 30 years will end within in the range of \"\r\n",
    "     + \"$\" + \"{:,}\".format(ci_lower) + \" and \" + \"$\" + \"{:,}\".format(ci_upper))"
   ],
   "outputs": [
    {
     "output_type": "stream",
     "name": "stdout",
     "text": [
      "There is a 95 percent chance that an initial investment of $20,000 in the portfolio\n",
      "over the next 30 years will end within in the range of $100,844.93 and $1,480,404.38\n"
     ]
    }
   ],
   "metadata": {}
  },
  {
   "cell_type": "markdown",
   "source": [
    "### Calculate the expected portfolio return at the `95%` lower and upper confidence intervals based on a `50%` increase in the initial investment."
   ],
   "metadata": {}
  },
  {
   "cell_type": "code",
   "execution_count": 65,
   "source": [
    "# Set initial investment\r\n",
    "initial_investment_additional = 20000 * 1.5\r\n",
    "\r\n",
    "# Use the lower and upper `95%` confidence intervals to calculate the range of the possible outcomes of our $30,000\r\n",
    "ci_lower_additioanl_investment = round(summary_stats[8] * initial_investment_additional,2)\r\n",
    "ci_upper_additional_investment = round(summary_stats[9] * initial_investment_additional,2)\r\n",
    "\r\n",
    "# Print results\r\n",
    "print(\"There is a 95 percent chance that an initial investment of \" + \"$\" + \"{:,}\".format(initial_investment_additional) + \" in the portfolio\" + \"\\n\"\r\n",
    "     + \"over the next 30 years will end within in the range of \"\r\n",
    "     + \"$\" + \"{:,}\".format(ci_lower_additioanl_investment) + \" and \" + \"$\" + \"{:,}\".format(ci_upper_additional_investment))"
   ],
   "outputs": [
    {
     "output_type": "stream",
     "name": "stdout",
     "text": [
      "There is a 95 percent chance that an initial investment of $30,000.0 in the portfolio\n",
      "over the next 30 years will end within in the range of $151,267.4 and $2,220,606.57\n"
     ]
    }
   ],
   "metadata": {}
  },
  {
   "cell_type": "markdown",
   "source": [
    "## Optional Challenge - Early Retirement\n",
    "\n",
    "\n",
    "### Five Years Retirement Option"
   ],
   "metadata": {}
  },
  {
   "cell_type": "code",
   "execution_count": null,
   "source": [
    "# Configuring a Monte Carlo simulation to forecast 5 years cumulative returns\r\n",
    "# YOUR CODE HERE!"
   ],
   "outputs": [],
   "metadata": {}
  },
  {
   "cell_type": "code",
   "execution_count": null,
   "source": [
    "# Running a Monte Carlo simulation to forecast 5 years cumulative returns\r\n",
    "# YOUR CODE HERE!"
   ],
   "outputs": [],
   "metadata": {}
  },
  {
   "cell_type": "code",
   "execution_count": null,
   "source": [
    "# Plot simulation outcomes\r\n",
    "# YOUR CODE HERE!"
   ],
   "outputs": [],
   "metadata": {}
  },
  {
   "cell_type": "code",
   "execution_count": null,
   "source": [
    "# Plot probability distribution and confidence intervals\r\n",
    "# YOUR CODE HERE!"
   ],
   "outputs": [],
   "metadata": {}
  },
  {
   "cell_type": "code",
   "execution_count": null,
   "source": [
    "# Fetch summary statistics from the Monte Carlo simulation results\r\n",
    "# YOUR CODE HERE!\r\n",
    "\r\n",
    "# Print summary statistics\r\n",
    "# YOUR CODE HERE!"
   ],
   "outputs": [],
   "metadata": {}
  },
  {
   "cell_type": "code",
   "execution_count": null,
   "source": [
    "# Set initial investment\r\n",
    "# YOUR CODE HERE!\r\n",
    "\r\n",
    "# Use the lower and upper `95%` confidence intervals to calculate the range of the possible outcomes of our $60,000\r\n",
    "# YOUR CODE HERE!\r\n",
    "\r\n",
    "# Print results\r\n",
    "print(f\"There is a 95% chance that an initial investment of ${initial_investment} in the portfolio\"\r\n",
    "      f\" over the next 5 years will end within in the range of\"\r\n",
    "      f\" ${ci_lower_five} and ${ci_upper_five}\")"
   ],
   "outputs": [],
   "metadata": {}
  },
  {
   "cell_type": "markdown",
   "source": [
    "### Ten Years Retirement Option"
   ],
   "metadata": {}
  },
  {
   "cell_type": "code",
   "execution_count": null,
   "source": [
    "# Configuring a Monte Carlo simulation to forecast 10 years cumulative returns\r\n",
    "# YOUR CODE HERE!"
   ],
   "outputs": [],
   "metadata": {}
  },
  {
   "cell_type": "code",
   "execution_count": null,
   "source": [
    "# Running a Monte Carlo simulation to forecast 10 years cumulative returns\r\n",
    "# YOUR CODE HERE!"
   ],
   "outputs": [],
   "metadata": {}
  },
  {
   "cell_type": "code",
   "execution_count": null,
   "source": [
    "# Plot simulation outcomes\r\n",
    "# YOUR CODE HERE!"
   ],
   "outputs": [],
   "metadata": {}
  },
  {
   "cell_type": "code",
   "execution_count": null,
   "source": [
    "# Plot probability distribution and confidence intervals\r\n",
    "# YOUR CODE HERE!"
   ],
   "outputs": [],
   "metadata": {}
  },
  {
   "cell_type": "code",
   "execution_count": null,
   "source": [
    "# Fetch summary statistics from the Monte Carlo simulation results\r\n",
    "# YOUR CODE HERE!\r\n",
    "\r\n",
    "# Print summary statistics\r\n",
    "# YOUR CODE HERE!"
   ],
   "outputs": [],
   "metadata": {}
  },
  {
   "cell_type": "code",
   "execution_count": null,
   "source": [
    "# Set initial investment\r\n",
    "# YOUR CODE HERE!\r\n",
    "\r\n",
    "# Use the lower and upper `95%` confidence intervals to calculate the range of the possible outcomes of our $60,000\r\n",
    "# YOUR CODE HERE!\r\n",
    "\r\n",
    "# Print results\r\n",
    "print(f\"There is a 95% chance that an initial investment of ${initial_investment} in the portfolio\"\r\n",
    "      f\" over the next 10 years will end within in the range of\"\r\n",
    "      f\" ${ci_lower_ten} and ${ci_upper_ten}\")"
   ],
   "outputs": [],
   "metadata": {}
  },
  {
   "cell_type": "code",
   "execution_count": null,
   "source": [],
   "outputs": [],
   "metadata": {}
  }
 ],
 "metadata": {
  "kernelspec": {
   "name": "python3",
   "display_name": "Python 3.8.8 64-bit ('FinTech': conda)"
  },
  "language_info": {
   "codemirror_mode": {
    "name": "ipython",
    "version": 3
   },
   "file_extension": ".py",
   "mimetype": "text/x-python",
   "name": "python",
   "nbconvert_exporter": "python",
   "pygments_lexer": "ipython3",
   "version": "3.8.8"
  },
  "nteract": {
   "version": "0.28.0"
  },
  "interpreter": {
   "hash": "a69dba933c6b8185488e89e7a06f7aca9551140e90f608799b32574f8ad3faa0"
  }
 },
 "nbformat": 4,
 "nbformat_minor": 4
}